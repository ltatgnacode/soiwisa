{
 "cells": [
  {
   "cell_type": "markdown",
   "metadata": {
    "extensions": {
     "jupyter_dashboards": {
      "version": 1,
      "views": {
       "grid_default": {
        "col": 0,
        "height": 4,
        "hidden": false,
        "row": 0,
        "width": 11
       },
       "report_default": {
        "hidden": false
       }
      }
     }
    }
   },
   "source": [
    "##  <font color=black>Physics - Free Fall  -  การตกของวัตถุแบบอิสระ</font>"
   ]
  },
  {
   "cell_type": "code",
   "execution_count": 563,
   "metadata": {
    "collapsed": true,
    "extensions": {
     "jupyter_dashboards": {
      "version": 1,
      "views": {
       "grid_default": {
        "col": 0,
        "height": 34,
        "hidden": true,
        "row": 0,
        "width": 12
       },
       "report_default": {
        "hidden": true
       }
      }
     }
    },
    "scrolled": false
   },
   "outputs": [],
   "source": [
    "from __future__ import print_function\n",
    "from ipywidgets import interact, interactive, fixed, interact_manual,Layout\n",
    "import ipywidgets as widgets\n",
    "from ipywidgets import FloatSlider\n",
    "from ipywidgets import Button, VBox, HBox, Dropdown, Checkbox\n",
    "from pandas.plotting import table\n",
    "import numpy as np\n",
    "import numpy\n",
    "import pandas as pd\n",
    "import matplotlib.pyplot as plt\n",
    "import math\n",
    "from IPython.display import Math\n",
    "from IPython.display import Latex\n",
    "%matplotlib inline\n",
    "\n",
    "#WIDGET SETUP AND LAYOUT\n",
    "wtom = widgets.ToggleButtons(options=['equator', '45', 'pole'], description='g_values',disabled=False,button_style='', # 'success','info', 'warning', 'danger' or ''\n",
    "    tooltips=['g = 9.780 m/sec^2', 'g = 9.806 m/sec^2', 'g = 9.832 m/sec^2'])                           \n",
    "end_time=widgets.FloatSlider(min=1,max=100,step=1,value=10,continuous_update=False, description='end_time')\n",
    "step_time=widgets.FloatSlider(min=0.1,max=2,step=0.1,value=1,continuous_update=False, description='step_time')\n",
    "v_0=widgets.FloatSlider(min=0,max=100,step=1,value=0,continuous_update=False, description='v_0')\n",
    "ui = widgets.HBox([end_time, step_time, v_0])\n",
    "ui2 = widgets.HBox([wtom])                        \n",
    "utt = widgets.VBox([ui,ui2])\n",
    "\n",
    "#SOME MATPLOTLIB SETUP\n",
    "import matplotlib\n",
    "\n",
    "matplotlib.rcParams.update({'font.size': 22})\n",
    "matplotlib.rc('xtick', labelsize=15) \n",
    "matplotlib.rc('ytick', labelsize=15) "
   ]
  },
  {
   "cell_type": "markdown",
   "metadata": {
    "extensions": {
     "jupyter_dashboards": {
      "version": 1,
      "views": {
       "grid_default": {
        "col": null,
        "height": 10,
        "hidden": false,
        "row": 63,
        "width": null
       },
       "report_default": {
        "hidden": false
       }
      }
     }
    }
   },
   "source": [
    "<center> Free fall equation : </center>\n",
    "\\begin{equation*}\n",
    "v   = \\mathbf{v}_0 + {g} \\times t\n",
    "\\end{equation*} \n",
    "<center><p>.</p> </center> \n",
    "\n",
    "<center> ความเร็ว   =  ความเร็วเริ่มต้น + ความเร่งเนื่องจากแรงโน้มถ่วง x เวลา</center>\n",
    "\n",
    "<center><p>.</p> </center>\n",
    "\n",
    "<center> Dimension analysis : </center>\n",
    "\\begin{equation*}\n",
    "\\frac{ m}{ s} = \\frac{ m}{ s} + \\frac{ m}{ s^2} \\times { s} \n",
    "\\end{equation*}\n",
    "<center><p>.</p> </center>\n",
    "<center>\n",
    "<table style=\"width:100%\">\n",
    "  <tr>\n",
    "    <th><center>Velocity</center></th>\n",
    "    <th><center>Initial velocity</center></th> \n",
    "    <th><center>Time</center></th>\n",
    "    <th><center>Distance</center></th>\n",
    "    <th><center>Gravity acceleration</center></th>\n",
    "    <th><center>g Equator</center></th>\n",
    "    <th><center>g 45 latitude</center></th>\n",
    "    <th><center>g Pole</center></th> \n",
    "  </tr>\n",
    "  <tr>\n",
    "    <td><center>v</center></td>\n",
    "    <td><center>v_0</center></td> \n",
    "    <td><center>t</center></td>\n",
    "    <td><center>s</center></td>\n",
    "    <td><center>g</center></td> \n",
    "    <td><center>g</center></td>\n",
    "    <td><center>g</center></td>\n",
    "    <td><center>g</center></td> \n",
    "  </tr>\n",
    "   <tr>\n",
    "    <td><center>m/s</center></td>\n",
    "    <td><center>m/s</center></td> \n",
    "    <td><center>s</center></td>\n",
    "    <td><center>m</center></td>\n",
    "    <td><center>m/s^2</center></td> \n",
    "    <td><center>m/s^2</center></td>\n",
    "    <td><center>m/s^2</center></td>\n",
    "    <td><center>m/s^2</center></td> \n",
    "  </tr>\n",
    "     <tr>\n",
    "    <td><center>ความเร็ว</center></td>\n",
    "    <td><center>ความเร็วเริ่มต้น</center></td> \n",
    "    <td><center>เวลา</center></td>\n",
    "    <td><center>ระยะทาง</center></td>\n",
    "    <td><center>ความเร่งเนื่องจากแรงโน้มถ่วง</center></td> \n",
    "    <td><center>เส้นศูนย์สูตร</center></td>\n",
    "    <td><center>ละติจูด 45</center></td>\n",
    "    <td><center>ขั้วโลก</center></td> \n",
    "  </tr>\n",
    "</table>\n",
    "</center>"
   ]
  },
  {
   "cell_type": "code",
   "execution_count": 564,
   "metadata": {
    "extensions": {
     "jupyter_dashboards": {
      "version": 1,
      "views": {
       "grid_default": {
        "col": 0,
        "height": 47,
        "hidden": false,
        "row": 16,
        "width": 7
       },
       "report_default": {
        "hidden": false
       }
      }
     }
    }
   },
   "outputs": [
    {
     "data": {
      "application/vnd.jupyter.widget-view+json": {
       "model_id": "6ad5810a24ba49909afffb1552264a16",
       "version_major": 2,
       "version_minor": 0
      },
      "text/plain": [
       "A Jupyter Widget"
      ]
     },
     "metadata": {},
     "output_type": "display_data"
    },
    {
     "data": {
      "application/vnd.jupyter.widget-view+json": {
       "model_id": "8eb092ea51754e12a1da1a430d128ea1",
       "version_major": 2,
       "version_minor": 0
      },
      "text/plain": [
       "A Jupyter Widget"
      ]
     },
     "metadata": {},
     "output_type": "display_data"
    }
   ],
   "source": [
    "#Gravity Accelleration values\n",
    "g = {\"pole\": 9.832, \"45\": 9.806, \"equator\": 9.780}\n",
    "\n",
    "\n",
    "#INTERACTIVE FUNCTION\n",
    "def f(end_time, step_time, v_0):\n",
    "    num_datapoints = end_time/step_time\n",
    "    data = numpy.zeros(shape=(int(num_datapoints) ,4))\n",
    "    df = pd.DataFrame(data)\n",
    "    df.columns = ['t','v', 's', 'v^2']\n",
    "    #Formula V = t x g  , g = 9.82 m/sec²\n",
    "    for i, t in enumerate(np.arange(0.0, end_time, step_time)):\n",
    "        df['t'][i] = t\n",
    "        df['v'][i] = v_0 + t * g[wtom.value]\n",
    "        df['s'][i] = v_0 * t + 0.5 * g[wtom.value] * t*t\n",
    "        df['v^2'][i] = math.sqrt(v_0*v_0 + 2 * g[wtom.value] * df['s'][i])\n",
    "    ax1 = df.plot(kind='scatter', x='t', y='v', secondary_y=True, color='r', legend=True, s=100, figsize=(10,10), title='Free Fall')\n",
    "    ax1.set(xlabel='Time sec', ylabel='Velocity m/s')\n",
    "    ax2 = ax1.twinx()\n",
    "    ax2 = df.plot(kind='scatter', x='t', y='s', secondary_y=False, color='g', s=100, ax=ax2) \n",
    "    ax2.set(ylabel='Distance m')\n",
    "    #ax3 = df.plot(kind='scatter', x='s', y='v', secondary_y=False, color='b', s=100, figsize=(10,10)) \n",
    "    ax4 = df.plot(kind='scatter', x='s', y='v^2', secondary_y=False, color='b', s=100, figsize=(10,10), title='Is this right?')\n",
    "    ax4.set(xlabel='s : distance in m', ylabel='v^2 velocity squared in m^2/s^2')\n",
    "    print(df.T)\n",
    "\n",
    "out = widgets.interactive_output(f, {'end_time': end_time, 'step_time': step_time,'v_0': v_0})\n",
    "\n",
    "display(utt, out)"
   ]
  },
  {
   "cell_type": "markdown",
   "metadata": {
    "extensions": {
     "jupyter_dashboards": {
      "version": 1,
      "views": {
       "grid_default": {
        "col": 0,
        "height": 3,
        "hidden": false,
        "row": 4,
        "width": 11
       },
       "report_default": {
        "hidden": false
       }
      }
     }
    }
   },
   "source": [
    "###  <font color=black>Only the math - Free Fall</font>"
   ]
  },
  {
   "cell_type": "code",
   "execution_count": 565,
   "metadata": {
    "collapsed": true,
    "extensions": {
     "jupyter_dashboards": {
      "version": 1,
      "views": {
       "grid_default": {
        "col": 0,
        "height": 4,
        "hidden": false,
        "row": 12,
        "width": 12
       },
       "report_default": {
        "hidden": false
       }
      }
     }
    }
   },
   "outputs": [],
   "source": [
    "data2 = numpy.zeros(shape=(11 ,4))\n",
    "df2 = pd.DataFrame(data2)\n",
    "df2.columns = ['t','v', 's', 'v^2']\n",
    "#Formula V = t x g  , g = 9.82 m/sec²\n",
    "g = 9.780\n",
    "v_0 = 0\n",
    "\n",
    "for i, t in enumerate(np.arange(0, 11, 1)):\n",
    "    df2['t'][i] = t\n",
    "    df2['v'][i] = v_0 + t * g\n",
    "    df2['s'][i] = v_0 * t + 0.5 * g * t*t\n",
    "    df2['v^2'][i] = v_0*v_0 + 2 * g * df2['s'][i]"
   ]
  },
  {
   "cell_type": "code",
   "execution_count": 566,
   "metadata": {
    "extensions": {
     "jupyter_dashboards": {
      "version": 1,
      "views": {
       "grid_default": {
        "col": 0,
        "height": 5,
        "hidden": false,
        "row": 7,
        "width": 8
       },
       "report_default": {
        "hidden": false
       }
      }
     }
    }
   },
   "outputs": [
    {
     "data": {
      "text/html": [
       "<div>\n",
       "<style>\n",
       "    .dataframe thead tr:only-child th {\n",
       "        text-align: right;\n",
       "    }\n",
       "\n",
       "    .dataframe thead th {\n",
       "        text-align: left;\n",
       "    }\n",
       "\n",
       "    .dataframe tbody tr th {\n",
       "        vertical-align: top;\n",
       "    }\n",
       "</style>\n",
       "<table border=\"1\" class=\"dataframe\">\n",
       "  <thead>\n",
       "    <tr style=\"text-align: right;\">\n",
       "      <th></th>\n",
       "      <th>0</th>\n",
       "      <th>1</th>\n",
       "      <th>2</th>\n",
       "      <th>3</th>\n",
       "      <th>4</th>\n",
       "      <th>5</th>\n",
       "      <th>6</th>\n",
       "      <th>7</th>\n",
       "      <th>8</th>\n",
       "      <th>9</th>\n",
       "      <th>10</th>\n",
       "    </tr>\n",
       "  </thead>\n",
       "  <tbody>\n",
       "    <tr>\n",
       "      <th>t</th>\n",
       "      <td>0.0</td>\n",
       "      <td>1.0000</td>\n",
       "      <td>2.0000</td>\n",
       "      <td>3.0000</td>\n",
       "      <td>4.0000</td>\n",
       "      <td>5.00</td>\n",
       "      <td>6.0000</td>\n",
       "      <td>7.0000</td>\n",
       "      <td>8.0000</td>\n",
       "      <td>9.0000</td>\n",
       "      <td>10.00</td>\n",
       "    </tr>\n",
       "    <tr>\n",
       "      <th>v</th>\n",
       "      <td>0.0</td>\n",
       "      <td>9.7800</td>\n",
       "      <td>19.5600</td>\n",
       "      <td>29.3400</td>\n",
       "      <td>39.1200</td>\n",
       "      <td>48.90</td>\n",
       "      <td>58.6800</td>\n",
       "      <td>68.4600</td>\n",
       "      <td>78.2400</td>\n",
       "      <td>88.0200</td>\n",
       "      <td>97.80</td>\n",
       "    </tr>\n",
       "    <tr>\n",
       "      <th>s</th>\n",
       "      <td>0.0</td>\n",
       "      <td>4.8900</td>\n",
       "      <td>19.5600</td>\n",
       "      <td>44.0100</td>\n",
       "      <td>78.2400</td>\n",
       "      <td>122.25</td>\n",
       "      <td>176.0400</td>\n",
       "      <td>239.6100</td>\n",
       "      <td>312.9600</td>\n",
       "      <td>396.0900</td>\n",
       "      <td>489.00</td>\n",
       "    </tr>\n",
       "    <tr>\n",
       "      <th>v^2</th>\n",
       "      <td>0.0</td>\n",
       "      <td>95.6484</td>\n",
       "      <td>382.5936</td>\n",
       "      <td>860.8356</td>\n",
       "      <td>1530.3744</td>\n",
       "      <td>2391.21</td>\n",
       "      <td>3443.3424</td>\n",
       "      <td>4686.7716</td>\n",
       "      <td>6121.4976</td>\n",
       "      <td>7747.5204</td>\n",
       "      <td>9564.84</td>\n",
       "    </tr>\n",
       "  </tbody>\n",
       "</table>\n",
       "</div>"
      ],
      "text/plain": [
       "      0        1         2         3          4        5          6   \\\n",
       "t    0.0   1.0000    2.0000    3.0000     4.0000     5.00     6.0000   \n",
       "v    0.0   9.7800   19.5600   29.3400    39.1200    48.90    58.6800   \n",
       "s    0.0   4.8900   19.5600   44.0100    78.2400   122.25   176.0400   \n",
       "v^2  0.0  95.6484  382.5936  860.8356  1530.3744  2391.21  3443.3424   \n",
       "\n",
       "            7          8          9        10  \n",
       "t       7.0000     8.0000     9.0000    10.00  \n",
       "v      68.4600    78.2400    88.0200    97.80  \n",
       "s     239.6100   312.9600   396.0900   489.00  \n",
       "v^2  4686.7716  6121.4976  7747.5204  9564.84  "
      ]
     },
     "execution_count": 566,
     "metadata": {},
     "output_type": "execute_result"
    }
   ],
   "source": [
    "df2.T"
   ]
  },
  {
   "cell_type": "code",
   "execution_count": null,
   "metadata": {
    "collapsed": true,
    "extensions": {
     "jupyter_dashboards": {
      "version": 1,
      "views": {
       "grid_default": {
        "hidden": true
       },
       "report_default": {
        "hidden": true
       }
      }
     }
    }
   },
   "outputs": [],
   "source": []
  }
 ],
 "metadata": {
  "extensions": {
   "jupyter_dashboards": {
    "activeView": "report_default",
    "version": 1,
    "views": {
     "grid_default": {
      "cellMargin": 10,
      "defaultCellHeight": 20,
      "maxColumns": 12,
      "name": "grid",
      "type": "grid"
     },
     "report_default": {
      "name": "report",
      "type": "report"
     }
    }
   }
  },
  "kernelspec": {
   "display_name": "Python 2",
   "language": "python",
   "name": "python2"
  },
  "language_info": {
   "codemirror_mode": {
    "name": "ipython",
    "version": 2
   },
   "file_extension": ".py",
   "mimetype": "text/x-python",
   "name": "python",
   "nbconvert_exporter": "python",
   "pygments_lexer": "ipython2",
   "version": "2.7.14"
  }
 },
 "nbformat": 4,
 "nbformat_minor": 2
}
