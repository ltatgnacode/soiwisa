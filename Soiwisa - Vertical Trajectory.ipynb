{
 "cells": [
  {
   "cell_type": "markdown",
   "metadata": {
    "extensions": {
     "jupyter_dashboards": {
      "version": 1,
      "views": {
       "grid_default": {
        "col": 0,
        "height": 4,
        "hidden": false,
        "row": 0,
        "width": 11
       },
       "report_default": {
        "hidden": false
       }
      }
     }
    }
   },
   "source": [
    "##  <font color=black>Physics - Vertical Trajectory - </font>"
   ]
  },
  {
   "cell_type": "code",
   "execution_count": 43,
   "metadata": {
    "collapsed": true,
    "extensions": {
     "jupyter_dashboards": {
      "version": 1,
      "views": {
       "grid_default": {
        "col": 0,
        "height": 34,
        "hidden": true,
        "row": 0,
        "width": 12
       },
       "report_default": {
        "hidden": true
       }
      }
     }
    },
    "scrolled": false
   },
   "outputs": [],
   "source": [
    "from __future__ import print_function\n",
    "from ipywidgets import interact, interactive, fixed, interact_manual,Layout\n",
    "import ipywidgets as widgets\n",
    "from ipywidgets import FloatSlider\n",
    "from ipywidgets import Button, VBox, HBox, Dropdown, Checkbox\n",
    "from pandas.plotting import table\n",
    "import numpy as np\n",
    "import numpy\n",
    "import pandas as pd\n",
    "import matplotlib.pyplot as plt\n",
    "import math\n",
    "from IPython.display import Math\n",
    "from IPython.display import Latex\n",
    "%matplotlib inline\n",
    "\n",
    "#WIDGET SETUP AND LAYOUT\n",
    "wtom = widgets.ToggleButtons(options=['equator', '45', 'pole'], description='g_values',disabled=False,button_style='', # 'success','info', 'warning', 'danger' or ''\n",
    "    tooltips=['g = 9.780 m/sec^2', 'g = 9.806 m/sec^2', 'g = 9.832 m/sec^2'])                           \n",
    "end_time=widgets.FloatSlider(min=1,max=100,step=1,value=20,continuous_update=False, description='end_time')\n",
    "step_time=widgets.FloatSlider(min=0.1,max=2,step=0.1,value=0.5,continuous_update=False, description='step_time')\n",
    "v_0=widgets.FloatSlider(min=0,max=100,step=1,value=50,continuous_update=False, description='v_0')\n",
    "ui = widgets.HBox([end_time, step_time, v_0])\n",
    "ui2 = widgets.HBox([wtom])                        \n",
    "utt = widgets.VBox([ui,ui2])\n",
    "\n",
    "#SOME MATPLOTLIB SETUP\n",
    "import matplotlib\n",
    "\n",
    "matplotlib.rcParams.update({'font.size': 22})\n",
    "matplotlib.rc('xtick', labelsize=14) \n",
    "matplotlib.rc('ytick', labelsize=14) \n"
   ]
  },
  {
   "cell_type": "markdown",
   "metadata": {
    "extensions": {
     "jupyter_dashboards": {
      "version": 1,
      "views": {
       "grid_default": {
        "col": null,
        "height": 10,
        "hidden": false,
        "row": 63,
        "width": null
       },
       "report_default": {
        "hidden": false
       }
      }
     }
    }
   },
   "source": [
    "<center> Vertical Trajectory equation : vertical velocity</center>\n",
    "\\begin{equation*}\n",
    "v   = \\mathbf{v}_0 - {g} \\times t\n",
    "\\end{equation*} \n",
    "<center><p>.</p> </center> \n",
    "\n",
    "<center> ความเร็ว   =  ความเร็วเริ่มต้น - ความเร่งเนื่องจากแรงโน้มถ่วง x เวลา</center>\n",
    "\n",
    "<center><p>.</p> </center>\n",
    "\n",
    "<center> Dimension analysis : </center>\n",
    "\\begin{equation*}\n",
    "\\frac{ m}{ s} = \\frac{ m}{ s} - \\frac{ m}{ s^2} \\times { s} \n",
    "\\end{equation*}\n",
    "<center><p>.</p> </center>\n",
    "\n",
    "<center> Vertical Trajectory equation : vertical distance</center>\n",
    "\\begin{equation*}\n",
    "s   = \\mathbf{v}_0 \\times t - \\frac{ 1}{ 2}{g} \\times t\n",
    "\\end{equation*} \n",
    "<center><p>.</p> </center> \n",
    "\n",
    "<center> ความเร็ว   =  ความเร็วเริ่มต้น + ความเร่งเนื่องจากแรงโน้มถ่วง x เวลา</center>\n",
    "\n",
    "<center><p>.</p> </center>\n",
    "\n",
    "<center> Dimension analysis : </center>\n",
    "\\begin{equation*}\n",
    "{ m} = \\frac{ m}{ s} \\times { s} - \\frac{ m}{ s^2} \\times {s^2} \n",
    "\\end{equation*}\n",
    "\n",
    "<center><p>.</p> </center>\n",
    "<center>\n",
    "<table style=\"width:100%\">\n",
    "  <tr>\n",
    "    <th><center>Velocity</center></th>\n",
    "    <th><center>Initial velocity</center></th> \n",
    "    <th><center>Time</center></th>\n",
    "    <th><center>Distance</center></th>\n",
    "    <th><center>Gravity acceleration</center></th>\n",
    "    <th><center>g Equator</center></th>\n",
    "    <th><center>g 45 latitude</center></th>\n",
    "    <th><center>g Pole</center></th> \n",
    "  </tr>\n",
    "  <tr>\n",
    "    <td><center>v</center></td>\n",
    "    <td><center>v_0</center></td> \n",
    "    <td><center>t</center></td>\n",
    "    <td><center>s</center></td>\n",
    "    <td><center>g</center></td> \n",
    "    <td><center>g</center></td>\n",
    "    <td><center>g</center></td>\n",
    "    <td><center>g</center></td> \n",
    "  </tr>\n",
    "   <tr>\n",
    "    <td><center>m/s</center></td>\n",
    "    <td><center>m/s</center></td> \n",
    "    <td><center>s</center></td>\n",
    "    <td><center>m</center></td>\n",
    "    <td><center>m/s^2</center></td> \n",
    "    <td><center>m/s^2</center></td>\n",
    "    <td><center>m/s^2</center></td>\n",
    "    <td><center>m/s^2</center></td> \n",
    "  </tr>\n",
    "     <tr>\n",
    "    <td><center>ความเร็ว</center></td>\n",
    "    <td><center>ความเร็วเริ่มต้น</center></td> \n",
    "    <td><center>เวลา</center></td>\n",
    "    <td><center>ระยะทาง</center></td>\n",
    "    <td><center>ความเร่งเนื่องจากแรงโน้มถ่วง</center></td> \n",
    "    <td><center>เส้นศูนย์สูตร</center></td>\n",
    "    <td><center>ละติจูด 45</center></td>\n",
    "    <td><center>ขั้วโลก</center></td> \n",
    "  </tr>\n",
    "</table>\n",
    "</center>"
   ]
  },
  {
   "cell_type": "code",
   "execution_count": 44,
   "metadata": {
    "extensions": {
     "jupyter_dashboards": {
      "version": 1,
      "views": {
       "grid_default": {
        "col": 0,
        "height": 47,
        "hidden": false,
        "row": 16,
        "width": 7
       },
       "report_default": {
        "hidden": false
       }
      }
     }
    }
   },
   "outputs": [
    {
     "data": {
      "application/vnd.jupyter.widget-view+json": {
       "model_id": "d455d44a164642719991385841bf9655",
       "version_major": 2,
       "version_minor": 0
      },
      "text/plain": [
       "A Jupyter Widget"
      ]
     },
     "metadata": {},
     "output_type": "display_data"
    },
    {
     "data": {
      "application/vnd.jupyter.widget-view+json": {
       "model_id": "0b9600f63e94448d8401f82156f4d0c0",
       "version_major": 2,
       "version_minor": 0
      },
      "text/plain": [
       "A Jupyter Widget"
      ]
     },
     "metadata": {},
     "output_type": "display_data"
    }
   ],
   "source": [
    "#Gravity Accelleration values\n",
    "g = {\"pole\": 9.832, \"45\": 9.806, \"equator\": 9.780}\n",
    "\n",
    "\n",
    "#INTERACTIVE FUNCTION\n",
    "def f(end_time, step_time, v_0):\n",
    "    num_datapoints = end_time/step_time\n",
    "    data = numpy.zeros(shape=(int(num_datapoints) ,4))\n",
    "    df = pd.DataFrame(data)\n",
    "    df.columns = ['t','v', 's', 'v^2']\n",
    "    #Formula V = t x g  , g = 9.82 m/sec²\n",
    "    for i, t in enumerate(np.arange(0.0, end_time, step_time)):\n",
    "        df['t'][i] = t\n",
    "        df['v'][i] = v_0 - t * g[wtom.value]\n",
    "        df['s'][i] = v_0 * t - 0.5 * g[wtom.value] * t*t\n",
    "        if df['s'][i] < -1:\n",
    "            break\n",
    "\n",
    "       # df['v^2'][i] = math.sqrt(v_0*v_0 + 2 * g[wtom.value] * df['s'][i])\n",
    "    ax1 = df.plot(kind='scatter', x='t', y='v', secondary_y=True, color='r', legend=True, s=100, figsize=(10,10), title='Vertical Trajectory')\n",
    "    ax1.set(xlabel='Time sec', ylabel='Velocity m/s')\n",
    "    ax2 = ax1.twinx()\n",
    "    ax2 = df.plot(kind='scatter', x='t', y='s', secondary_y=False, color='g', s=100, ax=ax2) \n",
    "    ax2.set(ylabel='Distance m')\n",
    "    #ax3 = df.plot(kind='scatter', x='s', y='v', secondary_y=False, color='b', s=100, figsize=(10,10)) \n",
    "    #ax4 = df.plot(kind='scatter', x='s', y='v^2', secondary_y=False, color='b', s=100, figsize=(10,10), title='Is this right?')\n",
    "    #ax4.set(xlabel='s : distance in m', ylabel='v^2 velocity squared in m^2/s^2')\n",
    "    print(\"peak vertical distance: {} meters\".format(numpy.amax(df['s'])))\n",
    "    print(df.T)\n",
    "\n",
    "out = widgets.interactive_output(f, {'end_time': end_time, 'step_time': step_time,'v_0': v_0})\n",
    "\n",
    "display(utt, out)"
   ]
  },
  {
   "cell_type": "markdown",
   "metadata": {
    "extensions": {
     "jupyter_dashboards": {
      "version": 1,
      "views": {
       "grid_default": {
        "col": 0,
        "height": 3,
        "hidden": false,
        "row": 4,
        "width": 11
       },
       "report_default": {
        "hidden": false
       }
      }
     }
    }
   },
   "source": [
    "###  <font color=blue>Only the math - Vertical Trajectory</font>"
   ]
  },
  {
   "cell_type": "code",
   "execution_count": 34,
   "metadata": {
    "extensions": {
     "jupyter_dashboards": {
      "version": 1,
      "views": {
       "grid_default": {
        "col": 0,
        "height": 4,
        "hidden": false,
        "row": 12,
        "width": 12
       },
       "report_default": {
        "hidden": false
       }
      }
     }
    }
   },
   "outputs": [
    {
     "name": "stdout",
     "output_type": "stream",
     "text": [
      "peak vertical distance: 127.4076 meters\n"
     ]
    },
    {
     "data": {
      "text/html": [
       "<div>\n",
       "<style>\n",
       "    .dataframe thead tr:only-child th {\n",
       "        text-align: right;\n",
       "    }\n",
       "\n",
       "    .dataframe thead th {\n",
       "        text-align: left;\n",
       "    }\n",
       "\n",
       "    .dataframe tbody tr th {\n",
       "        vertical-align: top;\n",
       "    }\n",
       "</style>\n",
       "<table border=\"1\" class=\"dataframe\">\n",
       "  <thead>\n",
       "    <tr style=\"text-align: right;\">\n",
       "      <th></th>\n",
       "      <th>0</th>\n",
       "      <th>1</th>\n",
       "      <th>2</th>\n",
       "      <th>3</th>\n",
       "      <th>4</th>\n",
       "      <th>5</th>\n",
       "      <th>6</th>\n",
       "      <th>7</th>\n",
       "      <th>8</th>\n",
       "      <th>9</th>\n",
       "      <th>10</th>\n",
       "      <th>11</th>\n",
       "      <th>12</th>\n",
       "      <th>13</th>\n",
       "      <th>14</th>\n",
       "      <th>15</th>\n",
       "      <th>16</th>\n",
       "      <th>17</th>\n",
       "      <th>18</th>\n",
       "      <th>19</th>\n",
       "    </tr>\n",
       "  </thead>\n",
       "  <tbody>\n",
       "    <tr>\n",
       "      <th>t</th>\n",
       "      <td>0.0</td>\n",
       "      <td>0.6000</td>\n",
       "      <td>1.2000</td>\n",
       "      <td>1.8000</td>\n",
       "      <td>2.4000</td>\n",
       "      <td>3.00</td>\n",
       "      <td>3.6000</td>\n",
       "      <td>4.2000</td>\n",
       "      <td>4.8000</td>\n",
       "      <td>5.4000</td>\n",
       "      <td>6.00</td>\n",
       "      <td>6.6000</td>\n",
       "      <td>7.2000</td>\n",
       "      <td>7.8000</td>\n",
       "      <td>8.4000</td>\n",
       "      <td>9.00</td>\n",
       "      <td>9.6000</td>\n",
       "      <td>10.2000</td>\n",
       "      <td>10.8000</td>\n",
       "      <td>0.0</td>\n",
       "    </tr>\n",
       "    <tr>\n",
       "      <th>v</th>\n",
       "      <td>50.0</td>\n",
       "      <td>44.1320</td>\n",
       "      <td>38.2640</td>\n",
       "      <td>32.3960</td>\n",
       "      <td>26.5280</td>\n",
       "      <td>20.66</td>\n",
       "      <td>14.7920</td>\n",
       "      <td>8.9240</td>\n",
       "      <td>3.0560</td>\n",
       "      <td>-2.8120</td>\n",
       "      <td>-8.68</td>\n",
       "      <td>-14.5480</td>\n",
       "      <td>-20.4160</td>\n",
       "      <td>-26.2840</td>\n",
       "      <td>-32.1520</td>\n",
       "      <td>-38.02</td>\n",
       "      <td>-43.8880</td>\n",
       "      <td>-49.7560</td>\n",
       "      <td>-55.6240</td>\n",
       "      <td>0.0</td>\n",
       "    </tr>\n",
       "    <tr>\n",
       "      <th>s</th>\n",
       "      <td>0.0</td>\n",
       "      <td>28.2396</td>\n",
       "      <td>52.9584</td>\n",
       "      <td>74.1564</td>\n",
       "      <td>91.8336</td>\n",
       "      <td>105.99</td>\n",
       "      <td>116.6256</td>\n",
       "      <td>123.7404</td>\n",
       "      <td>127.3344</td>\n",
       "      <td>127.4076</td>\n",
       "      <td>123.96</td>\n",
       "      <td>116.9916</td>\n",
       "      <td>106.5024</td>\n",
       "      <td>92.4924</td>\n",
       "      <td>74.9616</td>\n",
       "      <td>53.91</td>\n",
       "      <td>29.3376</td>\n",
       "      <td>1.2444</td>\n",
       "      <td>-30.3696</td>\n",
       "      <td>0.0</td>\n",
       "    </tr>\n",
       "  </tbody>\n",
       "</table>\n",
       "</div>"
      ],
      "text/plain": [
       "     0        1        2        3        4       5         6         7   \\\n",
       "t   0.0   0.6000   1.2000   1.8000   2.4000    3.00    3.6000    4.2000   \n",
       "v  50.0  44.1320  38.2640  32.3960  26.5280   20.66   14.7920    8.9240   \n",
       "s   0.0  28.2396  52.9584  74.1564  91.8336  105.99  116.6256  123.7404   \n",
       "\n",
       "         8         9       10        11        12       13       14     15  \\\n",
       "t    4.8000    5.4000    6.00    6.6000    7.2000   7.8000   8.4000   9.00   \n",
       "v    3.0560   -2.8120   -8.68  -14.5480  -20.4160 -26.2840 -32.1520 -38.02   \n",
       "s  127.3344  127.4076  123.96  116.9916  106.5024  92.4924  74.9616  53.91   \n",
       "\n",
       "        16       17       18   19  \n",
       "t   9.6000  10.2000  10.8000  0.0  \n",
       "v -43.8880 -49.7560 -55.6240  0.0  \n",
       "s  29.3376   1.2444 -30.3696  0.0  "
      ]
     },
     "execution_count": 34,
     "metadata": {},
     "output_type": "execute_result"
    }
   ],
   "source": [
    "data2 = numpy.zeros(shape=(20 ,3))\n",
    "df2 = pd.DataFrame(data2)\n",
    "df2.columns = ['t','v', 's']\n",
    "#Formula v = v0 + gt  , g = 9.82 m/sec²\n",
    "g = 9.780\n",
    "v_0 = 50\n",
    "\n",
    "for i, t in enumerate(np.arange(0, 20, 0.6)):\n",
    "    df2['t'][i] = t\n",
    "    df2['v'][i] = v_0 - t * g\n",
    "    df2['s'][i] = v_0 * t - 0.5 * g * t*t\n",
    "    if df2['s'][i] < -1:\n",
    "            break\n",
    "print(\"peak vertical distance: {} meters\".format(numpy.amax(df2['s'])))\n",
    "df2.T"
   ]
  },
  {
   "cell_type": "code",
   "execution_count": null,
   "metadata": {
    "collapsed": true
   },
   "outputs": [],
   "source": []
  }
 ],
 "metadata": {
  "extensions": {
   "jupyter_dashboards": {
    "activeView": "report_default",
    "version": 1,
    "views": {
     "grid_default": {
      "cellMargin": 10,
      "defaultCellHeight": 20,
      "maxColumns": 12,
      "name": "grid",
      "type": "grid"
     },
     "report_default": {
      "name": "report",
      "type": "report"
     }
    }
   }
  },
  "kernelspec": {
   "display_name": "Python 2",
   "language": "python",
   "name": "python2"
  },
  "language_info": {
   "codemirror_mode": {
    "name": "ipython",
    "version": 2
   },
   "file_extension": ".py",
   "mimetype": "text/x-python",
   "name": "python",
   "nbconvert_exporter": "python",
   "pygments_lexer": "ipython2",
   "version": "2.7.14"
  }
 },
 "nbformat": 4,
 "nbformat_minor": 2
}
